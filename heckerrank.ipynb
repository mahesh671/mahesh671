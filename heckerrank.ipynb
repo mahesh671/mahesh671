{
 "cells": [
  {
   "cell_type": "markdown",
   "id": "e0059209",
   "metadata": {},
   "source": [
    "# HACKERRANK ALPHABET CIRCULAR PRINTER"
   ]
  },
  {
   "cell_type": "code",
   "execution_count": 26,
   "id": "4d43a005",
   "metadata": {},
   "outputs": [
    {
     "name": "stdout",
     "output_type": "stream",
     "text": [
      "entr stringZNMD\n",
      "65 90\n",
      "26 1\n",
      "1\n",
      "23\n"
     ]
    }
   ],
   "source": [
    "def diff(cur,let):\n",
    "    return abs(cur-let)\n",
    "def greatdiff(cur,let):\n",
    "    count=0\n",
    "    cur,let=max(cur,let),min(cur,let)\n",
    "    #let=min(cur,let)\n",
    "    print(cur, let)\n",
    "    while not(cur==let):\n",
    "        count+=1\n",
    "       # print(count)\n",
    "        cur+=1\n",
    "        if cur==27:\n",
    "            cur=1\n",
    "        print(cur)\n",
    "    return count\n",
    "c=input(\"entr string\")\n",
    "\n",
    "time=0\n",
    "cur =ord('A')\n",
    "for i in c:\n",
    "    if abs(cur-ord(i))<13:\n",
    "        time+=diff(cur,ord(i))\n",
    "        cur=ord(i)\n",
    "    else:\n",
    "        print(cur,ord(i))\n",
    "        time+=greatdiff(cur-64,ord(i)-64)\n",
    "        cur=ord(i)\n",
    "        \n",
    "        \n",
    "print(time)"
   ]
  }
 ],
 "metadata": {
  "kernelspec": {
   "display_name": "Python 3",
   "language": "python",
   "name": "python3"
  },
  "language_info": {
   "codemirror_mode": {
    "name": "ipython",
    "version": 3
   },
   "file_extension": ".py",
   "mimetype": "text/x-python",
   "name": "python",
   "nbconvert_exporter": "python",
   "pygments_lexer": "ipython3",
   "version": "3.8.8"
  }
 },
 "nbformat": 4,
 "nbformat_minor": 5
}
